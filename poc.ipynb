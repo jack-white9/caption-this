{
  "nbformat": 4,
  "nbformat_minor": 0,
  "metadata": {
    "colab": {
      "provenance": []
    },
    "kernelspec": {
      "name": "python3",
      "display_name": "Python 3"
    },
    "language_info": {
      "name": "python"
    }
  },
  "cells": [
    {
      "cell_type": "code",
      "execution_count": null,
      "metadata": {
        "id": "QgB2Nti0qtUH"
      },
      "outputs": [],
      "source": [
        "#!pip install transformers\n",
        "#!pip install openai\n",
        "from transformers import pipeline\n",
        "import openai"
      ]
    },
    {
      "cell_type": "code",
      "source": [
        "captioner = pipeline(\"image-to-text\", model=\"Salesforce/blip-image-captioning-base\")\n",
        "\n",
        "def generate_image_description(image):\n",
        "  image_description = captioner(image)[0][\"generated_text\"]\n",
        "  return image_description"
      ],
      "metadata": {
        "id": "MuPBRKB6qukE"
      },
      "execution_count": 12,
      "outputs": []
    },
    {
      "cell_type": "code",
      "source": [
        "openai.api_key = # api key\n",
        "\n",
        "def generate_caption_from_image_description(image_description):\n",
        "    messages = [{\"role\": \"system\", \"content\": \"Given a textual description of an image, your purpose is to use that information to generate text for an Instagram caption. You come up with witty captions. You do not reply with anything but the caption of the image once given a description. You must not include any hashtags in your response.\"}]\n",
        "    message_str = {\"role\": \"user\", \"content\": image_description}\n",
        "    messages.append(message_str)\n",
        "\n",
        "    completions = openai.ChatCompletion.create(\n",
        "        model=\"gpt-3.5-turbo-0301\", messages=messages\n",
        "    )\n",
        "\n",
        "    response = completions[\"choices\"][0][\"message\"][\"content\"]\n",
        "    return response"
      ],
      "metadata": {
        "id": "Gt4LjYA3sGl-"
      },
      "execution_count": 20,
      "outputs": []
    },
    {
      "cell_type": "code",
      "source": [
        "image = \"https://www.shutterstock.com/shutterstock/photos/1865153395/display_1500/stock-photo-portrait-of-young-smiling-woman-looking-at-camera-with-crossed-arms-happy-girl-standing-in-1865153395.jpg\"\n",
        "image_description = generate_image_description(image)\n",
        "caption = generate_caption_from_image_description(image_description)\n",
        "print(caption)"
      ],
      "metadata": {
        "colab": {
          "base_uri": "https://localhost:8080/"
        },
        "id": "tuZrkRCxu1v5",
        "outputId": "4e899b1f-6c6f-4730-e313-805d8ded2fb3"
      },
      "execution_count": 21,
      "outputs": [
        {
          "output_type": "stream",
          "name": "stdout",
          "text": [
            "\"Conquering the corporate world, one smile at a time.\"\n"
          ]
        }
      ]
    }
  ]
}